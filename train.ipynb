{
 "cells": [
  {
   "cell_type": "code",
   "execution_count": 19,
   "metadata": {},
   "outputs": [],
   "source": [
    "import numpy as np\n",
    "from keras.datasets import fashion_mnist\n",
    "import matplotlib.pyplot as plt\n",
    "import wandb"
   ]
  },
  {
   "cell_type": "code",
   "execution_count": 36,
   "metadata": {},
   "outputs": [],
   "source": [
    "# function to prepare dataset\n",
    "def prepare_dataset():\n",
    "    \n",
    "    print(\"Downloading Fashion MNIST dataset:\", end=\" \")\n",
    "    (x_train, y_train), (x_test, y_test) = fashion_mnist.load_data()\n",
    "    print(\"done\")\n",
    "\n",
    "    print(\"Samples in training data:\\t\", x_train.shape[0])\n",
    "    print(\"Samples in testing data:\\t\", x_test.shape[0])\n",
    "    label_dict = {\n",
    "        0: \t\"T-shirt/top\",\n",
    "        1: \t\"Trouser\",\n",
    "        2: \t\"Pullover\",\n",
    "        3: \t\"Dress\",\n",
    "        4: \t\"Coat\",\n",
    "        5: \t\"Sandal\",\n",
    "        6: \t\"Shirt\",\n",
    "        7: \t\"Sneaker\",\n",
    "        8: \t\"Bag\",\n",
    "        9: \t\"Ankle boot \"\n",
    "    }\n",
    "    print(\"Encoding of labels\", label_dict)\n",
    "    \n",
    "    print(\"Reshaping images:\", end=\" \")\n",
    "    x_train = x_train.reshape(x_train.shape[0], -1)\n",
    "    x_test = x_test.reshape(x_test.shape[0], -1)\n",
    "    print(\"done\")\n",
    "\n",
    "    print(\"Performing one hot encoding:\", end=\" \")\n",
    "    y_train_enc = np.zeros((y_train.shape[0], 10))\n",
    "    y_test_enc = np.zeros((y_test.shape[0], 10))\n",
    "    print(\"done\")\n",
    "\n",
    "    for idx, lbl in enumerate(y_train):\n",
    "        y_train_enc[idx][lbl] = 1\n",
    "        \n",
    "    for idx, lbl in enumerate(y_test):\n",
    "        y_test_enc[idx][lbl] = 1 \n",
    "\n",
    "    print(\"Dataset Prepared\")\n",
    "    return x_train, y_train, y_train_enc, x_test, y_test, y_test_enc, label_dict"
   ]
  },
  {
   "cell_type": "code",
   "execution_count": 73,
   "metadata": {},
   "outputs": [],
   "source": [
    "def plot_and_log_images(X, y, label_dict, use_wandb=False):\n",
    "    if use_wandb:\n",
    "        wandb.init(project=\"cs6910-assignment-1\", entity=\"me19b110\", name=\"images log\")\n",
    "\n",
    "    images = []\n",
    "    labels = []\n",
    "    for i in range(10):\n",
    "        images.append(X[np.where(y==i)[0][0]].reshape((28, 28)))\n",
    "        labels.append(label_dict[i])\n",
    "    \n",
    "    fig, ax = plt.subplots(4, 3, figsize=(10,10))\n",
    "    print(\"Sample images from training dataset\")\n",
    "    for idx in range(10):\n",
    "        ax[int(idx/3), idx%3].imshow(images[idx], cmap=\"gray\", vmin=\"0\", vmax=\"255\")\n",
    "        ax[int(idx/3), idx%3].set_title(labels[idx])\n",
    "        ax[int(idx/3), idx%3].axis('off')\n",
    "    \n",
    "    fig.delaxes(ax[3,1])\n",
    "    fig.delaxes(ax[3,2])\n",
    "\n",
    "\n",
    "    if use_wandb:\n",
    "        wandb.log({\"Image Samples\": [wandb.Image(img, caption=lbl) for img, lbl in zip(images, labels)]})\n",
    "        wandb.finish()"
   ]
  },
  {
   "cell_type": "code",
   "execution_count": 51,
   "metadata": {},
   "outputs": [
    {
     "name": "stdout",
     "output_type": "stream",
     "text": [
      "Downloading Fashion MNIST dataset: done\n",
      "Samples in training data:\t 60000\n",
      "Samples in testing data:\t 10000\n",
      "Encoding of labels {0: 'T-shirt/top', 1: 'Trouser', 2: 'Pullover', 3: 'Dress', 4: 'Coat', 5: 'Sandal', 6: 'Shirt', 7: 'Sneaker', 8: 'Bag', 9: 'Ankle boot '}\n",
      "Reshaping images: done\n",
      "Performing one hot encoding: done\n",
      "Dataset Prepared\n"
     ]
    }
   ],
   "source": [
    "x_train, y_train, y_train_enc, x_test, y_test, y_test_enc, label_dict = prepare_dataset()"
   ]
  },
  {
   "cell_type": "code",
   "execution_count": 75,
   "metadata": {},
   "outputs": [
    {
     "name": "stderr",
     "output_type": "stream",
     "text": [
      "\u001b[34m\u001b[1mwandb\u001b[0m: Currently logged in as: \u001b[33mme19b110\u001b[0m. Use \u001b[1m`wandb login --relogin`\u001b[0m to force relogin\n"
     ]
    },
    {
     "data": {
      "text/html": [
       "Tracking run with wandb version 0.13.10"
      ],
      "text/plain": [
       "<IPython.core.display.HTML object>"
      ]
     },
     "metadata": {},
     "output_type": "display_data"
    },
    {
     "data": {
      "text/html": [
       "Run data is saved locally in <code>/media/macrove/RAJ/Work/College/sem8/fodl/assgn1/cs6910_assignment1/wandb/run-20230302_040326-s7kqiqpg</code>"
      ],
      "text/plain": [
       "<IPython.core.display.HTML object>"
      ]
     },
     "metadata": {},
     "output_type": "display_data"
    },
    {
     "data": {
      "text/html": [
       "Syncing run <strong><a href='https://wandb.ai/me19b110/cs6910-assignment-1/runs/s7kqiqpg' target=\"_blank\">images log</a></strong> to <a href='https://wandb.ai/me19b110/cs6910-assignment-1' target=\"_blank\">Weights & Biases</a> (<a href='https://wandb.me/run' target=\"_blank\">docs</a>)<br/>"
      ],
      "text/plain": [
       "<IPython.core.display.HTML object>"
      ]
     },
     "metadata": {},
     "output_type": "display_data"
    },
    {
     "data": {
      "text/html": [
       " View project at <a href='https://wandb.ai/me19b110/cs6910-assignment-1' target=\"_blank\">https://wandb.ai/me19b110/cs6910-assignment-1</a>"
      ],
      "text/plain": [
       "<IPython.core.display.HTML object>"
      ]
     },
     "metadata": {},
     "output_type": "display_data"
    },
    {
     "data": {
      "text/html": [
       " View run at <a href='https://wandb.ai/me19b110/cs6910-assignment-1/runs/s7kqiqpg' target=\"_blank\">https://wandb.ai/me19b110/cs6910-assignment-1/runs/s7kqiqpg</a>"
      ],
      "text/plain": [
       "<IPython.core.display.HTML object>"
      ]
     },
     "metadata": {},
     "output_type": "display_data"
    },
    {
     "name": "stdout",
     "output_type": "stream",
     "text": [
      "Sample images from training dataset\n"
     ]
    },
    {
     "data": {
      "text/html": [
       "Waiting for W&B process to finish... <strong style=\"color:green\">(success).</strong>"
      ],
      "text/plain": [
       "<IPython.core.display.HTML object>"
      ]
     },
     "metadata": {},
     "output_type": "display_data"
    },
    {
     "data": {
      "application/vnd.jupyter.widget-view+json": {
       "model_id": "0d8651189c7b427a92a29eca91b047bd",
       "version_major": 2,
       "version_minor": 0
      },
      "text/plain": [
       "VBox(children=(Label(value='0.007 MB of 0.007 MB uploaded (0.000 MB deduped)\\r'), FloatProgress(value=1.0, max…"
      ]
     },
     "metadata": {},
     "output_type": "display_data"
    },
    {
     "data": {
      "text/html": [
       " View run <strong style=\"color:#cdcd00\">images log</strong> at: <a href='https://wandb.ai/me19b110/cs6910-assignment-1/runs/s7kqiqpg' target=\"_blank\">https://wandb.ai/me19b110/cs6910-assignment-1/runs/s7kqiqpg</a><br/>Synced 6 W&B file(s), 10 media file(s), 0 artifact file(s) and 0 other file(s)"
      ],
      "text/plain": [
       "<IPython.core.display.HTML object>"
      ]
     },
     "metadata": {},
     "output_type": "display_data"
    },
    {
     "data": {
      "text/html": [
       "Find logs at: <code>./wandb/run-20230302_040326-s7kqiqpg/logs</code>"
      ],
      "text/plain": [
       "<IPython.core.display.HTML object>"
      ]
     },
     "metadata": {},
     "output_type": "display_data"
    },
    {
     "data": {
      "image/png": "[encoded data removed]",
      "text/plain": [
       "<Figure size 1000x1000 with 10 Axes>"
      ]
     },
     "metadata": {},
     "output_type": "display_data"
    }
   ],
   "source": [
    "plot_and_log_images(x_train, y_train, label_dict, use_wandb=False)"
   ]
  },
  {
   "cell_type": "code",
   "execution_count": null,
   "metadata": {},
   "outputs": [],
   "source": []
  }
 ],
 "metadata": {
  "kernelspec": {
   "display_name": "prml",
   "language": "python",
   "name": "python3"
  },
  "language_info": {
   "codemirror_mode": {
    "name": "ipython",
    "version": 3
   },
   "file_extension": ".py",
   "mimetype": "text/x-python",
   "name": "python",
   "nbconvert_exporter": "python",
   "pygments_lexer": "ipython3",
   "version": "3.10.9"
  },
  "orig_nbformat": 4,
  "vscode": {
   "interpreter": {
    "hash": "bc3812a0ded51caba72f5b90f44dea82fdb324b59b8c803195eb65a2c16cf7a5"
   }
  }
 },
 "nbformat": 4,
 "nbformat_minor": 2
}
